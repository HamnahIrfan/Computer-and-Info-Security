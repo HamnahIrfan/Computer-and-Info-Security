{
  "metadata": {
    "language_info": {
      "codemirror_mode": {
        "name": "python",
        "version": 3
      },
      "file_extension": ".py",
      "mimetype": "text/x-python",
      "name": "python",
      "nbconvert_exporter": "python",
      "pygments_lexer": "ipython3",
      "version": "3.8"
    },
    "kernelspec": {
      "name": "python",
      "display_name": "Python (Pyodide)",
      "language": "python"
    }
  },
  "nbformat_minor": 4,
  "nbformat": 4,
  "cells": [
    {
      "cell_type": "markdown",
      "source": "# Hamnah Irfan and Christopher Berardino\n## COM260\n### Lab 1",
      "metadata": {}
    },
    {
      "cell_type": "markdown",
      "source": "#### Exercise 1: \n**Objective:** Creating a simple cipher that reverses a user input string\n\n**Result:** When we attempted to input a string, jupyter created an error, and so like disccussed in class, we physically input a string, in our case \"apple\". The code reverses the characters of the string. \"apple\" became \"elppa\".\n\n**Procedure:** To do this, we first put our string, \"apple\", into the variable s. Then, since we learned that strings have a feature in which each individual character in a string can be individually called, we created a new variable myPlainText, which began with the last letter \"e\" and ended in \"a\" to reverse the string. Then we printed our variable myPlainText, and the string was reversed. ",
      "metadata": {}
    },
    {
      "cell_type": "code",
      "source": "#number 1\ns = \"apple\"\nmyPlainText = s[4],s[3],s[2],s[1],s[0]\nprint(myPlainText)",
      "metadata": {
        "tags": [],
        "trusted": true
      },
      "execution_count": 57,
      "outputs": [
        {
          "name": "stdout",
          "text": "('e', 'l', 'p', 'p', 'a')\n",
          "output_type": "stream"
        }
      ]
    },
    {
      "cell_type": "markdown",
      "source": "#### Exercise 2: \n**Objective:** Creating a simple cipher that takes a string from the user, reverses it, and shifts by a key. \n\n**Result:** We wrote code that reverses the elements of the string, and then we wrote code that shifts each letter by 100. Our key for this cipher is 100. \"apple\" became \"mtxxi\".\n\n**Procedure:** To execute this, we first reused our code from exercise 1. Then we replicated the code that we wrote in class and created a for loop which converted each element or letter in the string to ASCII. Using the ord() function, we converted each letter to its unicode equivalent. When we were returned an integer, we shifted each \"letter\" by 100. Afterwards, we turned the integer value back to its ASCII table equivalent letter by using the char() function. Since we used a for loop, this process was repeated for each letter in the string, and ultimately, our original string was reversed and then shifted by a key. ",
      "metadata": {}
    },
    {
      "cell_type": "code",
      "source": "#number 2\ns = \"apple\"\nmyPlainText = s[4],s[3],s[2],s[1],s[0]\n\ni = 0\nfor i in range (5): \n    \n    #convert the letter to ASCII\n    value = ord(myPlainText[i]) + 97\n    value = (value + 100) % 26\n    print(chr(value + 97))\n    i = i + 1 ",
      "metadata": {
        "tags": [],
        "trusted": true
      },
      "execution_count": 58,
      "outputs": [
        {
          "name": "stdout",
          "text": "m\nt\nx\nx\ni\n",
          "output_type": "stream"
        }
      ]
    },
    {
      "cell_type": "markdown",
      "source": "#### Exercise 3: \n**Objective:** Creating a simple cipher that takes a string, and shifts each even character by a certain shift and each odd character by a different shift\n\n**Result:** We wrote code that shifts the odd characters in the string \"apple\" by 80, and it shifts the even characters in the string by 103. \n\n**Procedure:** We first declared our string variable, myPlainText as \"apple\". Then we created a for loop. Within the for loop, we created an if-else statement. In this statement, we used the mod operator to determine if the character was odd or even. If the character was even, then it would shift by 103 and if the letter was odd then the letter would shift by 80. To shift the letters, we reused the code from exercise 2 and simply changed the shift to 80 and 103.    ",
      "metadata": {}
    },
    {
      "cell_type": "code",
      "source": "#number 3\nmyPlainText = \"apple\"\ni = 0\nfor i in range (5): \n    \n#convert the letter to ASCII\n    \n    if i % 2 == 0:\n        value = ord(myPlainText[i]) + 97\n        value = (value + 80) % 26\n        print(chr(value + 97))\n        i = i + 1 \n    else: \n        value = ord(myPlainText[i]) + 97\n        value = (value + 103) % 26\n        print(chr(value + 97))\n        i = i + 1 \n        ",
      "metadata": {
        "trusted": true
      },
      "execution_count": 75,
      "outputs": [
        {
          "name": "stdout",
          "text": "o\na\nd\nw\ns\n",
          "output_type": "stream"
        }
      ]
    },
    {
      "cell_type": "markdown",
      "source": "#### Exercise 4: \n**Objective:** Creating our own cipher using both transposition and substitution. \n\n**Result:** We wrote code that first uses transposition to randomly rearrange the letters(without the spaces) of a string. Then, using 1:1 mapping, those letters were substituted with those of a key that we created. The result was a string(without spaces) that was encrypted and nowhere resembled the original text. \n\n**Procedure:** First, we created a string variable that stored the entire alphabet. Then, we created another string variable that was the key. The key and the alphabet string variables both had 26 letters and not a single letter was repeated. We also created a variable which was our plainText. Afterwards, we created another variable, s, which rearranged the letters in the plainText without the spaces. We used a random number generator that we found on google to randomly reorganize the letters according to their index from 0-32. Then we used a for loop to turn every letter into lowercase. Afterwards, our code used an if-else statement to 1:1 map our key and alphabet and create a new encrypted string. ",
      "metadata": {}
    },
    {
      "cell_type": "code",
      "source": "#number 4\n#substitution and transposition cipher\nalphabet = \"abcdefghijklmnopqrstuvwxyz\"\nkey = \"mnbvcxzlkjhgfdsapoiuytrewq\"\nplainText = \"Im learning how to code in Python\"\n\ns = plainText[9], plainText[22], plainText[5], plainText[31], plainText[12], plainText[24], plainText[28], plainText[8], plainText[27], plainText[32], plainText[1],plainText[29], plainText[3],plainText[16], plainText[13], plainText[25], plainText[7], plainText[14], plainText[10], plainText[19], plainText[21], plainText[6], plainText[4],plainText[17], plainText[0], plainText[20], plainText[30] \n\nencrypted = \"\"\nfor letter in s:\n    if letter.lower() in alphabet:\n        encrypted += key[alphabet.find(letter.lower())]\n    else:\n        encrypted += letter\n\nprint(encrypted)\n",
      "metadata": {
        "trusted": true
      },
      "execution_count": 76,
      "outputs": [
        {
          "name": "stdout",
          "text": "dcmslkwkadfugusddrzbvocsksl\n",
          "output_type": "stream"
        }
      ]
    }
  ]
}